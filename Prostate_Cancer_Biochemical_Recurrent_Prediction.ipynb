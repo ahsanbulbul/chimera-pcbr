{
  "nbformat": 4,
  "nbformat_minor": 0,
  "metadata": {
    "colab": {
      "provenance": [],
      "toc_visible": true,
      "include_colab_link": true
    },
    "kernelspec": {
      "name": "python3",
      "display_name": "Python 3"
    },
    "language_info": {
      "name": "python"
    }
  },
  "cells": [
    {
      "cell_type": "markdown",
      "metadata": {
        "id": "view-in-github",
        "colab_type": "text"
      },
      "source": [
        "<a href=\"https://colab.research.google.com/github/ahsanbulbul/chimera-pcbr/blob/main/Prostate_Cancer_Biochemical_Recurrent_Prediction.ipynb\" target=\"_parent\"><img src=\"https://colab.research.google.com/assets/colab-badge.svg\" alt=\"Open In Colab\"/></a>"
      ]
    },
    {
      "cell_type": "code",
      "source": [
        "import os\n",
        "import pandas as pd"
      ],
      "metadata": {
        "id": "7KPMMN4Aoygh"
      },
      "execution_count": null,
      "outputs": []
    },
    {
      "cell_type": "code",
      "source": [
        "from google.colab import drive\n",
        "drive.mount('/content/drive')"
      ],
      "metadata": {
        "id": "8pR_ZeSdn2d_"
      },
      "execution_count": null,
      "outputs": []
    },
    {
      "cell_type": "markdown",
      "source": [
        "## Load the dataset"
      ],
      "metadata": {
        "id": "_dsB8tVmomSS"
      }
    },
    {
      "cell_type": "code",
      "source": [
        "dataset_path = \"/content/drive/MyDrive/Chimera: Prostate Cancer Biochemical Recurrent Prediction/training_dataset_v1\""
      ],
      "metadata": {
        "id": "BqrzJV7cooKN"
      },
      "execution_count": null,
      "outputs": []
    },
    {
      "cell_type": "code",
      "source": [
        "files = os.listdir(dataset_path)\n",
        "print(files)"
      ],
      "metadata": {
        "id": "wriwUWHYonxD"
      },
      "execution_count": null,
      "outputs": []
    },
    {
      "cell_type": "markdown",
      "source": [
        "## Import the clinical data"
      ],
      "metadata": {
        "id": "nSKAB_o7cs1l"
      }
    },
    {
      "cell_type": "markdown",
      "source": [
        "### Import the csv"
      ],
      "metadata": {
        "id": "tELycKGMgYEP"
      }
    },
    {
      "cell_type": "code",
      "source": [
        "output_csv_path = os.path.join(dataset_path, \"clinical_data_cleaned.csv\")"
      ],
      "metadata": {
        "id": "mvohtwlLdqNo"
      },
      "execution_count": null,
      "outputs": []
    },
    {
      "cell_type": "code",
      "source": [
        "clinical_data = pd.read_csv(output_csv_path)\n",
        "clinical_data.head(50)"
      ],
      "metadata": {
        "id": "BJpPhgkzgZja"
      },
      "execution_count": null,
      "outputs": []
    }
  ]
}